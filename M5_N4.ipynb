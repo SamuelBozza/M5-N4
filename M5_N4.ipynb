{
  "nbformat": 4,
  "nbformat_minor": 0,
  "metadata": {
    "colab": {
      "provenance": []
    },
    "kernelspec": {
      "name": "python3",
      "display_name": "Python 3"
    },
    "language_info": {
      "name": "python"
    }
  },
  "cells": [
    {
      "cell_type": "markdown",
      "source": [
        "Passo 1: Instalando as bibliotecas\n",
        "e recarregando o ambiente"
      ],
      "metadata": {
        "id": "zJz6hr-39Z9k"
      }
    },
    {
      "cell_type": "code",
      "source": [
        "!pip install -U pip setuptools wheel\n",
        "\n",
        "!pip install -U spacy\n",
        "\n",
        "!python -m spacy download en_core_web_sm\n",
        "\n",
        "!pip install spacytextblob\n",
        "\n",
        "import pkg_resources,imp\n",
        "\n",
        "imp.reload(pkg_resources)"
      ],
      "metadata": {
        "id": "HGabIs8o9cHZ"
      },
      "execution_count": null,
      "outputs": []
    },
    {
      "cell_type": "markdown",
      "source": [
        "Passo 2: Importando as\n",
        "bibliotecas para análise de sentimento"
      ],
      "metadata": {
        "id": "VzmLsRdZ-BHG"
      }
    },
    {
      "cell_type": "code",
      "source": [
        "import spacy\n",
        "\n",
        "from spacytextblob.spacytextblob import SpacyTextBlob"
      ],
      "metadata": {
        "id": "HNfbvowJ-B7T"
      },
      "execution_count": 3,
      "outputs": []
    },
    {
      "cell_type": "markdown",
      "source": [
        "Passo 3: Definindo o modelo e a\n",
        "pipeline a serem utilizadas na análise"
      ],
      "metadata": {
        "id": "QwE-x7Rk-HPP"
      }
    },
    {
      "cell_type": "code",
      "source": [
        "nlp = spacy.load('en_core_web_sm')\n",
        "\n",
        "nlp.add_pipe('spacytextblob')"
      ],
      "metadata": {
        "colab": {
          "base_uri": "https://localhost:8080/"
        },
        "id": "4gqW5ebX-JOT",
        "outputId": "0b15bcf9-fe61-4480-f8a9-7c51645f8a13"
      },
      "execution_count": 4,
      "outputs": [
        {
          "output_type": "execute_result",
          "data": {
            "text/plain": [
              "<spacytextblob.spacytextblob.SpacyTextBlob at 0x790fef42d330>"
            ]
          },
          "metadata": {},
          "execution_count": 4
        }
      ]
    },
    {
      "cell_type": "markdown",
      "source": [
        "Passo 4: Definindo o texto inicial a\n",
        "ser analisado para verificação/validação da biblioteca"
      ],
      "metadata": {
        "id": "zdfvfwDB-Oed"
      }
    },
    {
      "cell_type": "code",
      "source": [
        "user_input = 'This is a wonderful campsite. I loved the serenity and the birdschirping in the morning.'\n",
        "\n",
        "doc = nlp(user_input)"
      ],
      "metadata": {
        "id": "f9zX8S2v-SVW"
      },
      "execution_count": 6,
      "outputs": []
    },
    {
      "cell_type": "markdown",
      "source": [
        "Passo 5: Exibindo o resultado da\n",
        "primeira análise (um range entre -1 [avaliação negativa] e 1 [avaliação positiva]"
      ],
      "metadata": {
        "id": "GHQwS4S--eN2"
      }
    },
    {
      "cell_type": "code",
      "source": [
        "input_polarity = doc._.polarity\n",
        "\n",
        "sentiment = {\n",
        "\n",
        "    'score': input_polarity\n",
        "\n",
        "}\n",
        "\n",
        "print(sentiment)"
      ],
      "metadata": {
        "colab": {
          "base_uri": "https://localhost:8080/"
        },
        "id": "pzs4I2yQ-hB_",
        "outputId": "7e1cbfe2-5115-47b6-a362-8e1f8aac3dea"
      },
      "execution_count": 7,
      "outputs": [
        {
          "output_type": "stream",
          "name": "stdout",
          "text": [
            "{'score': 0.85}\n"
          ]
        }
      ]
    },
    {
      "cell_type": "markdown",
      "source": [
        "Passo 6: Definindo a lista de\n",
        "tweets a serem analisadas"
      ],
      "metadata": {
        "id": "1PHADfU8-nH1"
      }
    },
    {
      "cell_type": "code",
      "source": [
        "tweets=[\n",
        "\"Bayer Leverkusen goalkeeper Bernd Leno will not be going to Napoli. His agent Uli Ferber to Bild: I can confirm that there were negotiations with Napoli, which we have broken off. Napoli is not an option. Atletico Madrid and Arsenal are the other strong rumours. #B04 #AFC\",\n",
        "\n",
        "\"Gary Speed v Blackburn at St James in 2001/02 anyone? #NUFC #BEL #JAP #WorldCup\",\n",
        "\n",
        "\"@ChelseaFC Don't make him regret it and start him over Hoofiz\",\n",
        "\n",
        "\"@LiverpoolFF @AnfieldEdition He's a liar, made up. I've unfollowed him as loads of others have. Pure blagger. #LFC\",\n",
        "\n",
        "\"@theesk @Everton Didn't realise Kenwright is due to leave at the end of the month. In all seriousness could you see him being interested in us?\",\n",
        "\n",
        "\"@hasanshahbaz19 @LFC My knowledge has decreased somewhat in the past few seasons\",\n",
        "\n",
        "\"Report: Linked with #Everton and #Wolves, Italians set to sign £4.5m-rated winger\",\n",
        "\n",
        "\"Am seeing tweets that there’s been a fall out @Everton between the money men... I’m presuming it’s just a quiet news day or some kopite with nothing better to do! @ALANMYERSMEDIA\",\n",
        "\n",
        "\"@LFC @officialAL20 @IntChampionsCup @ManUtd Expect loads of excuses after tonight’s game\",\n",
        "\n",
        "\"@MartinDiamond17 @azryahmad @Baren_D @Mathewlewis1997 @iamheinthu @DiMarzio @Alissonbecker @LFC @SkySportsNews @SkySport @OfficialASRoma I’m just fine I have your fanbase angry over stating facts should ask them hun. Xo\",\n",
        "\n",
        "\"What a weekend of football results! @ManUtd @Glentoran @RangersFC &amp; Hearts ????\",\n",
        "\n",
        "\"@ChelseaFC For the first time in a long while, my heart was relaxed while watching Chelsea. Really enjoyed it today. Come on, CHELSEA!!!\",\n",
        "\n",
        "\"@ChelseaFC @CesarAzpi What a fantastic signing worth every single penny ??\",\n",
        "\n",
        "\"Pogba scores, Pogba assists. But tomorrow papers won't be telling you this, instead they will tell you how he'll end up at Juve because he's unhappy, frustrated, have grudges with Mourinho and so on and so forth #mufc\",\n",
        "\n",
        "\"@WestHamUtd we need to keep @CH14_ and get @HirvingLozano70 to compliment\",\n",
        "\n",
        "\"@kevdev9 @Everton Shouldn’t be happening! Needs to stay away with his venomous attitude until he is sold!\",\n",
        "\n",
        "\"@brfootball @aguerosergiokun @ManCity What a genius. Pep taking winning mentality with him, conquering league after league. Baller\",\n",
        "\n",
        "\"@HMZ0709  Can we get a RT for our #lfc Mo Salah Liverpool Enamel Pin Badge\"]"
      ],
      "metadata": {
        "id": "nEMDQwie-nqX"
      },
      "execution_count": 8,
      "outputs": []
    },
    {
      "cell_type": "markdown",
      "source": [
        "Passo 7: Analisando os tweets"
      ],
      "metadata": {
        "id": "0Ayqpqd2_Lu0"
      }
    },
    {
      "cell_type": "code",
      "source": [
        "for item in tweets:\n",
        "\n",
        "  doc = nlp(item)\n",
        "\n",
        "  input_polarity = doc._.polarity\n",
        "\n",
        "  sentiment = {\n",
        "\n",
        "      'tweet': item,\n",
        "\n",
        "      'score': input_polarity\n",
        "\n",
        "  }\n",
        "\n",
        "  print(sentiment)"
      ],
      "metadata": {
        "id": "OLNy52Cd_Nbp"
      },
      "execution_count": null,
      "outputs": []
    }
  ]
}